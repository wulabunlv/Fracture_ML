{
 "cells": [
  {
   "cell_type": "code",
   "execution_count": null,
   "metadata": {},
   "outputs": [],
   "source": [
    "from functools import partial\n",
    "from matplotlib import pyplot\n",
    "from matplotlib import lines, markers\n",
    "from cycler import cycler\n",
    "\n",
    "import logistical_classification, gradientboost_classification, randomforest_classification, mlpclass_1\n",
    "\n",
    "# RF and Log\n",
    "# Grad and Log\n",
    "\n",
    "if __name__ == '__main__':\n",
    "    # Add the models to the list that you want to view on the ROC plot\n",
    "    models = [\n",
    "        {\n",
    "            'label': 'Logistic Regression',\n",
    "            'model': partial(logistical_classification.get_data, plot=False)\n",
    "        },\n",
    "        {\n",
    "            'label': 'Random Forest',\n",
    "            'model': partial(randomforest_classification.get_data, plot=False)\n",
    "        },\n",
    "        {\n",
    "            'label': 'Gradient Boosting',\n",
    "            'model': partial(gradientboost_classification.get_data, plot=False)\n",
    "        },\n",
    "        {\n",
    "            'label': 'Neural Network',\n",
    "            'model': partial(mlpclass_1.get_data, plot=False)\n",
    "        }\n",
    "    ]\n",
    "    pyplot.figure()\n",
    "    # Create cycler object. Use any styling from above you please\n",
    "    # monochrome = (cycler('color', ['k']) * cycler('marker', ['^',',', '.']))\n",
    "    # monochrome = (cycler('color', ['k']) * cycler('linestyle', ['-', '--', ':', '=.']) * cycler('marker', ['^',',', '.']))\n",
    "    types = ('^k:', '--k', ',-.k', ':k')\n",
    "    # Below for loop iterates through your models list\n",
    "    for i, m in enumerate(models):\n",
    "        fpr, tpr, thresh, auc = m['model']()\n",
    "        # Now, plot the computed values\n",
    "        pyplot.plot(fpr, tpr, types[i], label=m['label'])\n",
    "    # Custom settings for the plot \n",
    "    pyplot.plot([0, 1], [0, 1], color='gray')\n",
    "    pyplot.xlim([0.0, 1.0])\n",
    "    pyplot.ylim([0.0, 1.05])\n",
    "    #pyplot.imshow(g, cmap = 'Greys')\n",
    "    pyplot.xlabel('1-Specificity (False Positive Rate)', fontsize=12, fontname='Arial')\n",
    "    pyplot.ylabel('Sensitivity (True Positive Rate)', fontsize=12, fontname='Arial')\n",
    "    #pyplot.title('MOF', fontdict={'fontsize': 16})\n",
    "    pyplot.legend(loc='lower right', fontsize=12)\n",
    "    pyplot.savefig('run_all_MOF.png')\n",
    "    pyplot.show()  # Display\n",
    "    # Receiver Operating Characteristic for "
   ]
  },
  {
   "cell_type": "code",
   "execution_count": null,
   "metadata": {},
   "outputs": [],
   "source": []
  }
 ],
 "metadata": {
  "kernelspec": {
   "display_name": "Python 3",
   "language": "python",
   "name": "python3"
  },
  "language_info": {
   "codemirror_mode": {
    "name": "ipython",
    "version": 3
   },
   "file_extension": ".py",
   "mimetype": "text/x-python",
   "name": "python",
   "nbconvert_exporter": "python",
   "pygments_lexer": "ipython3",
   "version": "3.7.3"
  }
 },
 "nbformat": 4,
 "nbformat_minor": 4
}
